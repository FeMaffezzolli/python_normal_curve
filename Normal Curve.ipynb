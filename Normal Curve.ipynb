{
 "cells": [
  {
   "cell_type": "markdown",
   "metadata": {},
   "source": [
    "# Playing with the normal curve"
   ]
  },
  {
   "cell_type": "markdown",
   "metadata": {},
   "source": [
    "__Normal distribution density function__\n",
    "\n",
    "$\n",
    "\\begin{align}\n",
    "p(x)=\\frac{1}{\\sqrt{2\\pi\\sigma²}} e^{-\\frac{(x-\\mu)^2}{2\\sigma^2}}\n",
    "\\end{align}\n",
    "$\n"
   ]
  },
  {
   "cell_type": "markdown",
   "metadata": {},
   "source": [
    "__Plotting Examples__\n",
    "\n",
    "<br>\n",
    "\n",
    "<img src='normaldistribution.png' width=450px style=\"margin: 0px;\">\n",
    "\n",
    "<a href=\"https://en.wikipedia.org/wiki/Normal_distribution#/media/File:Normal_Distribution_PDF.svg\">(source Wikipedia)</a>"
   ]
  },
  {
   "cell_type": "markdown",
   "metadata": {},
   "source": [
    "# Code"
   ]
  },
  {
   "cell_type": "code",
   "execution_count": 2,
   "metadata": {},
   "outputs": [],
   "source": [
    "# Importing needed libraries\n",
    "import math\n",
    "import numpy as np\n",
    "import matplotlib.pyplot as plt"
   ]
  },
  {
   "cell_type": "code",
   "execution_count": 3,
   "metadata": {},
   "outputs": [],
   "source": [
    "# Defining the distribution function\n",
    "def func(x, avg, sigma):\n",
    "    return (1/(math.sqrt(2*math.pi*sigma**2))) * math.exp( -( (x - avg)**2/(2*sigma**2) ) )"
   ]
  },
  {
   "cell_type": "code",
   "execution_count": 4,
   "metadata": {},
   "outputs": [
    {
     "data": {
      "text/plain": [
       "[<matplotlib.lines.Line2D at 0x7f61a7be72e8>]"
      ]
     },
     "execution_count": 4,
     "metadata": {},
     "output_type": "execute_result"
    },
    {
     "data": {
      "image/png": "[encoded data removed]",
      "text/plain": [
       "<Figure size 432x288 with 1 Axes>"
      ]
     },
     "metadata": {},
     "output_type": "display_data"
    }
   ],
   "source": [
    "# Plotting an example of normal curve\n",
    "mu, sigma = 65, 7.5\n",
    "s = np.random.normal(mu, sigma, 1000)\n",
    "count, bins, ignored = plt.hist(s, 30, density=True)\n",
    "plt.plot(bins, 1/(sigma * np.sqrt(2 * np.pi)) * np.exp( - (bins - mu)**2 / (2 * sigma**2) ),\n",
    "         linewidth=2, color='r')"
   ]
  },
  {
   "cell_type": "markdown",
   "metadata": {},
   "source": [
    "## Measuring probabilities (area under the curve)"
   ]
  },
  {
   "cell_type": "code",
   "execution_count": 5,
   "metadata": {},
   "outputs": [
    {
     "name": "stdout",
     "output_type": "stream",
     "text": [
      "Probability between 75 e 95:  9.12%\n"
     ]
    }
   ],
   "source": [
    "start, position, stop, step, soma = 75, 75, 95, 0.001, 0\n",
    "\n",
    "while(position < stop):\n",
    "    soma += func(position, mu, sigma) * step\n",
    "    position += step\n",
    "    \n",
    "print('Probability between %s e %s: ' % (start, stop), \"{0:.2%}\".format(soma))"
   ]
  },
  {
   "cell_type": "code",
   "execution_count": 6,
   "metadata": {},
   "outputs": [
    {
     "name": "stdout",
     "output_type": "stream",
     "text": [
      "Probabilidade entre 70 e 75:  16.13%\n"
     ]
    }
   ],
   "source": [
    "start, position, stop, step, soma = 70, 70, 75, 0.001, 0\n",
    "\n",
    "while(position < stop):\n",
    "    soma += func(position, mu, sigma) * step\n",
    "    position += step\n",
    "    \n",
    "print('Probabilidade entre %s e %s: ' % (start, stop), \"{0:.2%}\".format(soma))"
   ]
  },
  {
   "cell_type": "code",
   "execution_count": null,
   "metadata": {},
   "outputs": [],
   "source": []
  }
 ],
 "metadata": {
  "kernelspec": {
   "display_name": "Python 3",
   "language": "python",
   "name": "python3"
  }
 },
 "nbformat": 4,
 "nbformat_minor": 2
}
