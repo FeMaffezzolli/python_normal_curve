{
 "cells": [
  {
   "cell_type": "markdown",
   "metadata": {},
   "source": [
    "__Normal distribution density function__\n",
    "\n",
    "$\n",
    "\\begin{align}\n",
    "p(x)=\\frac{1}{\\sqrt{2\\pi\\sigma²}} e^{-\\frac{(x-\\mu)^2}{2\\sigma^2}}\n",
    "\\end{align}\n",
    "$\n"
   ]
  },
  {
   "cell_type": "code",
   "execution_count": 39,
   "metadata": {},
   "outputs": [],
   "source": [
    "import math\n",
    "import numpy as np\n",
    "import random as rd\n",
    "import matplotlib.pyplot as plt"
   ]
  },
  {
   "cell_type": "code",
   "execution_count": 12,
   "metadata": {},
   "outputs": [],
   "source": [
    "# Function\n",
    "def func(x, avg, sigma):\n",
    "    return (1/(math.sqrt(2*math.pi*sigma**2))) * math.exp( -( (x - avg)**2/(2*sigma**2) ) )"
   ]
  },
  {
   "cell_type": "code",
   "execution_count": 97,
   "metadata": {},
   "outputs": [
    {
     "data": {
      "text/plain": [
       "[<matplotlib.lines.Line2D at 0x7fc7a755f048>]"
      ]
     },
     "execution_count": 97,
     "metadata": {},
     "output_type": "execute_result"
    },
    {
     "data": {
      "image/png": "[encoded data removed]",
      "text/plain": [
       "<Figure size 432x288 with 1 Axes>"
      ]
     },
     "metadata": {},
     "output_type": "display_data"
    }
   ],
   "source": [
    "mu, sigma = 65, 7.5\n",
    "s = np.random.normal(mu, sigma, 1000)\n",
    "count, bins, ignored = plt.hist(s, 30, density=True)\n",
    "plt.plot(bins, 1/(sigma * np.sqrt(2 * np.pi)) * np.exp( - (bins - mu)**2 / (2 * sigma**2) ),\n",
    "         linewidth=2, color='r')"
   ]
  },
  {
   "cell_type": "code",
   "execution_count": 103,
   "metadata": {},
   "outputs": [
    {
     "name": "stdout",
     "output_type": "stream",
     "text": [
      "Probabilidade entre 75 e 250:  9.132059217265752\n"
     ]
    }
   ],
   "source": [
    "start, position, stop, step, soma = 75, 75, 250, 0.01, 0\n",
    "\n",
    "while(position < stop):\n",
    "    soma += func(position, mu, sigma)\n",
    "    position += step\n",
    "    \n",
    "print('Probabilidade entre %s e %s: ' % (start, stop),soma)"
   ]
  },
  {
   "cell_type": "code",
   "execution_count": 102,
   "metadata": {},
   "outputs": [
    {
     "name": "stdout",
     "output_type": "stream",
     "text": [
      "Probabilidade entre 70 e 75:  16.138494226162916\n"
     ]
    }
   ],
   "source": [
    "start, position, stop, step, soma = 70, 70, 75, 0.01, 0\n",
    "\n",
    "while(position < stop):\n",
    "    soma += func(position, mu, sigma)\n",
    "    position += step\n",
    "    \n",
    "print('Probabilidade entre %s e %s: ' % (start, stop) ,soma)"
   ]
  }
 ],
 "metadata": {
  "kernelspec": {
   "display_name": "Python 3",
   "language": "python",
   "name": "python3"
  },
  "language_info": {
   "codemirror_mode": {
    "name": "ipython",
    "version": 3
   },
   "file_extension": ".py",
   "mimetype": "text/x-python",
   "name": "python",
   "nbconvert_exporter": "python",
   "pygments_lexer": "ipython3",
   "version": "3.6.5"
  }
 },
 "nbformat": 4,
 "nbformat_minor": 2
}
